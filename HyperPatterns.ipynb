{
 "cells": [
  {
   "cell_type": "code",
   "execution_count": 1,
   "metadata": {},
   "outputs": [],
   "source": [
    "from  apyori import apriori\n",
    "import pandas as pd"
   ]
  },
  {
   "cell_type": "code",
   "execution_count": 2,
   "metadata": {},
   "outputs": [],
   "source": [
    "lst = [['1'],['2'],['3',  '4'],['1',  '2'],['1',  '2'],['1',  '2'],['1',  '2',  '3',  '4',  '5'],['1'],['2'],['3',  '5']]"
   ]
  },
  {
   "cell_type": "code",
   "execution_count": 23,
   "metadata": {},
   "outputs": [
    {
     "name": "stdout",
     "output_type": "stream",
     "text": [
      "{frozenset({'1'}): 0.6, frozenset({'2'}): 0.6, frozenset({'3'}): 0.3, frozenset({'4'}): 0.2, frozenset({'5'}): 0.2}\n",
      "\n",
      "{frozenset({'1', '2'}): 0.4, frozenset({'1', '3'}): 0.1, frozenset({'1', '4'}): 0.1, frozenset({'1', '5'}): 0.1, frozenset({'3', '2'}): 0.1, frozenset({'4', '2'}): 0.1, frozenset({'5', '2'}): 0.1, frozenset({'4', '3'}): 0.2, frozenset({'3', '5'}): 0.2, frozenset({'4', '5'}): 0.1}\n",
      "\n",
      "{frozenset({'1', '3', '2'}): 0.1, frozenset({'1', '4', '2'}): 0.1, frozenset({'1', '5', '2'}): 0.1, frozenset({'4', '1', '3'}): 0.1, frozenset({'1', '3', '5'}): 0.1, frozenset({'1', '4', '5'}): 0.1, frozenset({'4', '3', '2'}): 0.1, frozenset({'3', '5', '2'}): 0.1, frozenset({'4', '5', '2'}): 0.1, frozenset({'4', '3', '5'}): 0.1}\n",
      "\n",
      "{frozenset({'4', '1', '3', '2'}): 0.1, frozenset({'1', '3', '5', '2'}): 0.1, frozenset({'1', '4', '5', '2'}): 0.1, frozenset({'4', '1', '3', '5'}): 0.1, frozenset({'4', '3', '5', '2'}): 0.1}\n",
      "\n",
      "{frozenset({'4', '1', '2', '3', '5'}): 0.1}\n",
      "\n"
     ]
    }
   ],
   "source": [
    "previous_list = []\n",
    "for i in range(1,6):\n",
    "    associations = apriori(lst,max_length= i,min_support=0.001)\n",
    "    current_list = list(associations)\n",
    "    for j in previous_list:\n",
    "        current_list.remove(j)\n",
    "    previous_list = previous_list + (current_list)\n",
    "    curr_candidates = {}\n",
    "    for i in current_list:\n",
    "        curr_candidates[i.items] = i.support\n",
    "    \n",
    "    print(curr_candidates)\n",
    "    print()\n",
    "    \n",
    "    \n",
    "    \n",
    "    \n",
    "    \n",
    "    "
   ]
  },
  {
   "cell_type": "code",
   "execution_count": null,
   "metadata": {},
   "outputs": [],
   "source": []
  }
 ],
 "metadata": {
  "kernelspec": {
   "display_name": "Python 3",
   "language": "python",
   "name": "python3"
  },
  "language_info": {
   "codemirror_mode": {
    "name": "ipython",
    "version": 3
   },
   "file_extension": ".py",
   "mimetype": "text/x-python",
   "name": "python",
   "nbconvert_exporter": "python",
   "pygments_lexer": "ipython3",
   "version": "3.6.8"
  }
 },
 "nbformat": 4,
 "nbformat_minor": 2
}
